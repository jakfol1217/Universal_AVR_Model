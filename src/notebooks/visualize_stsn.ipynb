{
 "cells": [
  {
   "cell_type": "code",
   "execution_count": 1,
   "metadata": {},
   "outputs": [],
   "source": [
    "import os\n",
    "\n",
    "import matplotlib.pyplot as plt\n",
    "import numpy as np\n",
    "import numpy.typing as npt\n",
    "\n",
    "from PIL import Image"
   ]
  },
  {
   "cell_type": "code",
   "execution_count": 2,
   "metadata": {},
   "outputs": [],
   "source": [
    "DATA_ROOT = \"../data/out\""
   ]
  },
  {
   "cell_type": "code",
   "execution_count": 3,
   "metadata": {},
   "outputs": [],
   "source": [
    "def preprocess_image(img: npt.NDArray[np.float32]) -> npt.NDArray[np.uint8]:\n",
    "    \"\"\"\n",
    "    Preprocesses an image by converting it to a 3-channel uint8 array.\n",
    "\n",
    "    Parameters\n",
    "    ----------\n",
    "    img : numpy.typing.NDArray[np.float32]\n",
    "        The input image array.\n",
    "\n",
    "    Returns\n",
    "    -------\n",
    "    numpy.typing.NDArray[np.uint8]\n",
    "        The preprocessed image array.\n",
    "    \"\"\"\n",
    "\n",
    "    num_channels = img.shape[0]\n",
    "\n",
    "    if num_channels == 1:\n",
    "        img_2d = (np.squeeze(img, axis=0) * 255).astype(np.uint8)\n",
    "        img = np.stack([img_2d] * 3, axis=0)\n",
    "    return (np.transpose(img, axes=(1, 2, 0)) * 255).astype(np.uint8)"
   ]
  },
  {
   "cell_type": "code",
   "execution_count": 4,
   "metadata": {},
   "outputs": [],
   "source": [
    "def plot_image(img: npt.NDArray[np.float32], ax: plt.Axes | None = None) -> None:\n",
    "    \"\"\"\n",
    "    Plot an image on the given axes.\n",
    "\n",
    "    Parameters\n",
    "    ----------\n",
    "    img : numpy.ndarray\n",
    "        The image to be plotted.\n",
    "    ax : matplotlib.axes.Axes, optional\n",
    "        The axes on which to plot the image. If not provided, the current axes will be used.\n",
    "\n",
    "    Returns\n",
    "    -------\n",
    "    None\n",
    "    \"\"\"\n",
    "    ax = ax or plt.gca()\n",
    "    ax.imshow(Image.fromarray(preprocess_image(img)), cmap=None)\n",
    "    ax.axis(\"off\")"
   ]
  },
  {
   "cell_type": "code",
   "execution_count": 5,
   "metadata": {},
   "outputs": [],
   "source": [
    "def show_predictions_during_training(\n",
    "    data_root, img_num: int, batch_num: int, epochs: list[int] | None\n",
    "):\n",
    "    \"\"\"\n",
    "    Display the original and predicted images during training for different epochs.\n",
    "\n",
    "    Parameters\n",
    "    ----------\n",
    "    data_root : str\n",
    "        The root directory of the data with predictions.\n",
    "    img_num : int\n",
    "        The index of the image to display.\n",
    "    batch_num : int\n",
    "        The index of the batch to display.\n",
    "    epochs : list[int] | None, optional\n",
    "        The list of epochs to display. If None, all available epochs will be displayed.\n",
    "\n",
    "    Returns\n",
    "    -------\n",
    "    None\n",
    "    \"\"\"\n",
    "\n",
    "    if epochs is None:\n",
    "        epochs = [\n",
    "            int(file_nm.split(\"_\")[-1].removesuffix(\".npz\"))\n",
    "            for file_nm in os.listdir(data_root)\n",
    "        ]\n",
    "    epochs.sort()\n",
    "\n",
    "    fig, axes = plt.subplots(1, 1 + len(epochs), figsize=(10, 5))\n",
    "\n",
    "    for i, (ax, epoch_num) in enumerate(zip(axes[1:], epochs)):\n",
    "        x = np.load(os.path.join(data_root, f\"slots_{epoch_num}.npz\"))\n",
    "        if i == 0:\n",
    "            axes[0].set_title(\"Original Image\\n\")\n",
    "            plot_image(x[\"original_img\"][batch_num][img_num], axes[0])\n",
    "\n",
    "        ax.set_title(f\"Predicted Image\\nepoch = {epoch_num}\")\n",
    "        plot_image(x[\"pred_img\"][batch_num][img_num], ax)"
   ]
  },
  {
   "cell_type": "code",
   "execution_count": 6,
   "metadata": {},
   "outputs": [
    {
     "data": {
      "image/png": "[encoded data removed]",
      "text/plain": [
       "<Figure size 1000x500 with 4 Axes>"
      ]
     },
     "metadata": {},
     "output_type": "display_data"
    }
   ],
   "source": [
    "show_predictions_during_training(DATA_ROOT, img_num=3, batch_num=1, epochs=None)"
   ]
  },
  {
   "cell_type": "code",
   "execution_count": 7,
   "metadata": {},
   "outputs": [],
   "source": [
    "def plot_slots(\n",
    "    data_root, epoch, batch_num, img_num, slot_ids: list[int] | None = None\n",
    ") -> None:\n",
    "    x = np.load(os.path.join(data_root, f\"slots_{epoch}.npz\"))\n",
    "    recons = x[\"recons\"][batch_num][img_num]\n",
    "\n",
    "    if slot_ids is None:\n",
    "        slot_ids = list(range(recons.shape[0]))\n",
    "        slot_ids.sort()\n",
    "\n",
    "    fig, axes = plt.subplots(1, len(slot_ids) + 1, figsize=(10, 5))\n",
    "\n",
    "    axes[0].set_title(\"Reconstructed image\")\n",
    "    plot_image(x[\"pred_img\"][batch_num][img_num], axes[0])\n",
    "\n",
    "    for slot, ax in zip(slot_ids, axes[1:]):\n",
    "        ax.set_title(f\"Slot {slot}\")\n",
    "        plot_image(np.transpose(recons[slot], (2, 0, 1)), ax)"
   ]
  },
  {
   "cell_type": "code",
   "execution_count": 8,
   "metadata": {},
   "outputs": [
    {
     "data": {
      "image/png": "[encoded data removed]",
      "text/plain": [
       "<Figure size 1000x500 with 5 Axes>"
      ]
     },
     "metadata": {},
     "output_type": "display_data"
    }
   ],
   "source": [
    "plot_slots(DATA_ROOT, epoch=4, batch_num=0, img_num=0, slot_ids=[0, 1, 2, 3])"
   ]
  },
  {
   "cell_type": "code",
   "execution_count": null,
   "metadata": {},
   "outputs": [],
   "source": []
  }
 ],
 "metadata": {
  "kernelspec": {
   "display_name": ".venv",
   "language": "python",
   "name": "python3"
  },
  "language_info": {
   "codemirror_mode": {
    "name": "ipython",
    "version": 3
   },
   "file_extension": ".py",
   "mimetype": "text/x-python",
   "name": "python",
   "nbconvert_exporter": "python",
   "pygments_lexer": "ipython3",
   "version": "3.10.8"
  }
 },
 "nbformat": 4,
 "nbformat_minor": 2
}
